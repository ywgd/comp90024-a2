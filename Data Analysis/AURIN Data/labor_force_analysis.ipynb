{
 "cells": [
  {
   "cell_type": "code",
   "execution_count": 16,
   "metadata": {},
   "outputs": [],
   "source": [
    "import json\n",
    "from helperfunc import  Replace_None\n",
    "with open('labor_force.json','r',encoding=\"utf-8\") as f:\n",
    "    raw_labor_force = json.load(f)"
   ]
  },
  {
   "cell_type": "code",
   "execution_count": 17,
   "metadata": {},
   "outputs": [
    {
     "name": "stdout",
     "output_type": "stream",
     "text": [
      "{'fid': 115, 'lbr_frc_stat': 'Unemployed Total', 'p': 24800, 'sa4_code_2016': '206', 'sa4_name_2016': 'Melbourne - Inner', 'state_name_abbr': 'VIC'}\n",
      "{'fid': 119, 'lbr_frc_stat': 'Unemployed Total', 'p': 13200, 'sa4_code_2016': '207', 'sa4_name_2016': 'Melbourne - Inner East', 'state_name_abbr': 'VIC'}\n",
      "{'fid': 123, 'lbr_frc_stat': 'Unemployed Total', 'p': 8400, 'sa4_code_2016': '208', 'sa4_name_2016': 'Melbourne - Inner South', 'state_name_abbr': 'VIC'}\n",
      "{'fid': 127, 'lbr_frc_stat': 'Unemployed Total', 'p': 15300, 'sa4_code_2016': '209', 'sa4_name_2016': 'Melbourne - North East', 'state_name_abbr': 'VIC'}\n",
      "{'fid': 131, 'lbr_frc_stat': 'Unemployed Total', 'p': 15300, 'sa4_code_2016': '210', 'sa4_name_2016': 'Melbourne - North West', 'state_name_abbr': 'VIC'}\n",
      "{'fid': 135, 'lbr_frc_stat': 'Unemployed Total', 'p': 11000, 'sa4_code_2016': '211', 'sa4_name_2016': 'Melbourne - Outer East', 'state_name_abbr': 'VIC'}\n",
      "{'fid': 139, 'lbr_frc_stat': 'Unemployed Total', 'p': 28500, 'sa4_code_2016': '212', 'sa4_name_2016': 'Melbourne - South East', 'state_name_abbr': 'VIC'}\n",
      "{'fid': 143, 'lbr_frc_stat': 'Unemployed Total', 'p': 29800, 'sa4_code_2016': '213', 'sa4_name_2016': 'Melbourne - West', 'state_name_abbr': 'VIC'}\n",
      "{'fid': 147, 'lbr_frc_stat': 'Unemployed Total', 'p': 7000, 'sa4_code_2016': '214', 'sa4_name_2016': 'Mornington Peninsula', 'state_name_abbr': 'VIC'}\n",
      "{'fid': 151, 'lbr_frc_stat': 'Unemployed Total', 'p': 3500, 'sa4_code_2016': '201', 'sa4_name_2016': 'Ballarat', 'state_name_abbr': 'VIC'}\n",
      "{'fid': 155, 'lbr_frc_stat': 'Unemployed Total', 'p': 3300, 'sa4_code_2016': '202', 'sa4_name_2016': 'Bendigo', 'state_name_abbr': 'VIC'}\n",
      "{'fid': 159, 'lbr_frc_stat': 'Unemployed Total', 'p': 5300, 'sa4_code_2016': '203', 'sa4_name_2016': 'Geelong', 'state_name_abbr': 'VIC'}\n",
      "{'fid': 163, 'lbr_frc_stat': 'Unemployed Total', 'p': 3000, 'sa4_code_2016': '204', 'sa4_name_2016': 'Hume', 'state_name_abbr': 'VIC'}\n",
      "{'fid': 167, 'lbr_frc_stat': 'Unemployed Total', 'p': 7500, 'sa4_code_2016': '205', 'sa4_name_2016': 'Latrobe - Gippsland', 'state_name_abbr': 'VIC'}\n",
      "{'fid': 171, 'lbr_frc_stat': 'Unemployed Total', 'p': 2200, 'sa4_code_2016': '215', 'sa4_name_2016': 'North West', 'state_name_abbr': 'VIC'}\n"
     ]
    }
   ],
   "source": [
    "my_list = raw_labor_force['features']\n",
    "for i in range(len(my_list)):\n",
    "    Replace_None(my_list[i]['properties'], 0)\n",
    "    print(my_list[i]['properties'])"
   ]
  },
  {
   "cell_type": "code",
   "execution_count": 18,
   "metadata": {},
   "outputs": [
    {
     "name": "stdout",
     "output_type": "stream",
     "text": [
      "0.14588235294117646\n",
      "3200\n"
     ]
    }
   ],
   "source": [
    "# Melbourne inner population 170000: https://www.melbourne.vic.gov.au/about-melbourne/melbourne-profile/Pages/facts-about-melbourne.aspx\n",
    "unemploy_rate = 24800 / 170000\n",
    "print(unemploy_rate)\n",
    "# in 2021, the unemployment in Meblourne is twice than it in 2019 and 2021 (compared to unemployment_analysis)\n",
    "# Melbourne city has a higher unemployment rate than other suburbs\n",
    "in_inner_north_and_west = 24800 - (13200 + 8400)\n",
    "print(in_inner_north_and_west)\n",
    "# the unemployment in inner north and inner west of Melbourne is significantlt less than it in inner south and inner east\n",
    "\n",
    "\n",
    "# Melbourne: 37.8136° S, 144.9631° E\n",
    "# Mornington Peninsula: 38.2854° S, 145.0934° E\n",
    "# Ballarat: 37.5622° S, 143.8503° E\n",
    "# Bendigo: 36.7596° S, 144.2786° E\n",
    "# Geelong: 38.1493° S, 144.3598° E\n",
    "# Hume: 36.7865° N, 118.9137° W\n",
    "# Latrobe: 38.2556° S, 146.4720° E\n",
    "\n"
   ]
  }
 ],
 "metadata": {
  "interpreter": {
   "hash": "3d93671a0e3d3e7aa3818e34b448be8d99028bfc88ccbc9d3610f36069d4f077"
  },
  "kernelspec": {
   "display_name": "Python 3.9.8 64-bit",
   "language": "python",
   "name": "python3"
  },
  "language_info": {
   "codemirror_mode": {
    "name": "ipython",
    "version": 3
   },
   "file_extension": ".py",
   "mimetype": "text/x-python",
   "name": "python",
   "nbconvert_exporter": "python",
   "pygments_lexer": "ipython3",
   "version": "3.9.8"
  },
  "orig_nbformat": 4
 },
 "nbformat": 4,
 "nbformat_minor": 2
}
