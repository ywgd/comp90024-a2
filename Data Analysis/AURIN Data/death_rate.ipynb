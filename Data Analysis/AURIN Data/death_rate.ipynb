{
 "cells": [
  {
   "cell_type": "code",
   "execution_count": 22,
   "metadata": {},
   "outputs": [],
   "source": [
    "import json\n",
    "from helperfunc import Replace_None\n",
    "with open('death_rate.json', 'r', encoding = \"utf-8\") as f:\n",
    "    raw_death_rate = json.load(f)"
   ]
  },
  {
   "cell_type": "code",
   "execution_count": 23,
   "metadata": {},
   "outputs": [],
   "source": [
    "my_list = raw_death_rate['features']\n",
    "for i in range(len(my_list)):\n",
    "    Replace_None(my_list[i]['properties'], 0)\n",
    "    # print(my_list[i]['properties'])\n",
    "    \n",
    "# standardised death rates in  this dataset are averaged using data for the three years ending in the reference year. \n",
    "# They are calculated for each calendar year and then averaged. standardised death rates in the ABSStat datasets \n",
    "# and commentary are based on death registration data for the reference year only."
   ]
  },
  {
   "cell_type": "code",
   "execution_count": 24,
   "metadata": {},
   "outputs": [
    {
     "name": "stdout",
     "output_type": "stream",
     "text": [
      "The number of deaths in 2018 for property 0 is 25484 \n",
      "The number of deaths in 2019 for property 0 is 29173 \n",
      "The number of deaths in 2020 for property 0 is 27718 \n",
      "The number of deaths in 2018 for property 1 is 12649 \n",
      "The number of deaths in 2019 for property 1 is 13968 \n",
      "The number of deaths in 2020 for property 1 is 13265 \n"
     ]
    }
   ],
   "source": [
    "for i in range(len(my_list)):\n",
    "    # first three results are for Melbourne\n",
    "    print(\"The number of deaths in 2018 for property {} is {} \". format(i, int(my_list[i]['properties']['_2018_deaths_no'])))\n",
    "    print(\"The number of deaths in 2019 for property {} is {} \". format(i, int(my_list[i]['properties']['_2019_deaths_no'])))\n",
    "    print(\"The number of deaths in 2020 for property {} is {} \". format(i, int(my_list[i]['properties']['_2020_deaths_no'])))"
   ]
  },
  {
   "cell_type": "code",
   "execution_count": 25,
   "metadata": {},
   "outputs": [
    {
     "name": "stdout",
     "output_type": "stream",
     "text": [
      "The death rate in 2018 for property 0 is 4.8 \n",
      "The death rate in 2019 for property 0 is 4.8 \n",
      "The death rate in 2020 for property 0 is 4.7 \n",
      "The death rate in 2018 for property 1 is 5.7 \n",
      "The death rate in 2019 for property 1 is 5.7 \n",
      "The death rate in 2020 for property 1 is 5.7 \n"
     ]
    }
   ],
   "source": [
    "for i in range(len(my_list)):\n",
    "    print(\"The death rate in 2018 for property {} is {} \". format(i, float(my_list[i]['properties']['_2018_standardised_death_rate_rate'])))\n",
    "    print(\"The death rate in 2019 for property {} is {} \". format(i, float(my_list[i]['properties']['_2019_standardised_death_rate_rate'])))\n",
    "    print(\"The death rate in 2020 for property {} is {} \". format(i, float(my_list[i]['properties']['_2020_standardised_death_rate_rate'])))"
   ]
  },
  {
   "cell_type": "code",
   "execution_count": 26,
   "metadata": {},
   "outputs": [
    {
     "name": "stdout",
     "output_type": "stream",
     "text": [
      "The population in 2018 for property 0 is 0.005133025816396638 \n",
      "The population in 2019 for property 0 is 0.005743708116539016 \n",
      "The population in 2020 for property 0 is 0.0053725269232058935 \n",
      "The population in 2018 for property 1 is 0.008447838985484598 \n",
      "The population in 2019 for property 1 is 0.009203054243861171 \n",
      "The population in 2020 for property 1 is 0.008627872353018845 \n"
     ]
    }
   ],
   "source": [
    "for i in range(len(my_list)):\n",
    "    print(\"The population in 2018 for property {} is {} \". format(i, float((my_list[i]['properties']['_2018_deaths_no'])/my_list[i]['properties']['_2018_estimated_resident_population_persons'])))\n",
    "    print(\"The population in 2019 for property {} is {} \". format(i, float((my_list[i]['properties']['_2019_deaths_no'])/my_list[i]['properties']['_2019_estimated_resident_population_persons'])))\n",
    "    print(\"The population in 2020 for property {} is {} \". format(i, float((my_list[i]['properties']['_2020_deaths_no'])/my_list[i]['properties']['_2020_estimated_resident_population_persons'])))"
   ]
  },
  {
   "cell_type": "code",
   "execution_count": 27,
   "metadata": {},
   "outputs": [],
   "source": [
    "# the death rate in 2020 is smaller than it of previous years\n",
    "# maybe we can agure/compare with Twitter data"
   ]
  }
 ],
 "metadata": {
  "interpreter": {
   "hash": "3d93671a0e3d3e7aa3818e34b448be8d99028bfc88ccbc9d3610f36069d4f077"
  },
  "kernelspec": {
   "display_name": "Python 3.9.8 64-bit",
   "language": "python",
   "name": "python3"
  },
  "language_info": {
   "codemirror_mode": {
    "name": "ipython",
    "version": 3
   },
   "file_extension": ".py",
   "mimetype": "text/x-python",
   "name": "python",
   "nbconvert_exporter": "python",
   "pygments_lexer": "ipython3",
   "version": "3.9.8"
  },
  "orig_nbformat": 4
 },
 "nbformat": 4,
 "nbformat_minor": 2
}
