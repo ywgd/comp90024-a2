{
 "cells": [
  {
   "cell_type": "code",
   "execution_count": 131,
   "metadata": {},
   "outputs": [],
   "source": [
    "import json\n",
    "from helperfunc import  Replace_None\n",
    "with open('weekly_payroll.json','r',encoding=\"utf-8\") as f:\n",
    "    raw_weekly_payroll = json.load(f)"
   ]
  },
  {
   "cell_type": "code",
   "execution_count": 132,
   "metadata": {},
   "outputs": [],
   "source": [
    "my_list = raw_weekly_payroll['features']\n",
    "for i in range(len(my_list)):\n",
    "    Replace_None(my_list[i]['properties'], 0)"
   ]
  },
  {
   "cell_type": "code",
   "execution_count": 133,
   "metadata": {},
   "outputs": [
    {
     "name": "stdout",
     "output_type": "stream",
     "text": [
      "[92.75333333333333, 94.66000000000001, 96.42666666666666, 97.59333333333333, 98.25333333333333, 98.96, 98.98666666666668, 99.47333333333336, 99.64000000000001, 99.97333333333331, 100.0, 99.08, 96.51999999999998, 93.83333333333334, 92.4, 91.90000000000002, 92.40666666666667, 92.49333333333333, 92.72000000000001, 92.91333333333334, 93.06666666666666, 93.57333333333334, 94.21333333333334, 95.09333333333333, 95.21333333333332, 94.76000000000002, 95.33999999999999, 95.35333333333332, 95.24, 95.02, 94.92, 94.26666666666667, 93.60666666666667, 92.91333333333334, 92.75999999999999, 92.67333333333333, 93.17333333333333, 93.54, 93.45333333333333, 92.58666666666667]\n"
     ]
    }
   ],
   "source": [
    "total_wk = []\n",
    "total_wk1 = 0; total_wk2 = 0; total_wk3 = 0; total_wk4 = 0; total_wk5 = 0\n",
    "total_wk6 = 0; total_wk7 = 0; total_wk8 = 0; total_wk9 = 0; total_wk10 = 0\n",
    "total_wk11 = 0; total_wk12 = 0; total_wk13 = 0; total_wk14 = 0; total_wk15 = 0\n",
    "total_wk16 = 0; total_wk17 = 0; total_wk18 = 0; total_wk19 = 0; total_wk20 = 0\n",
    "total_wk21 = 0; total_wk22 = 0; total_wk23 = 0; total_wk24 = 0; total_wk25 = 0\n",
    "total_wk26 = 0; total_wk27 = 0; total_wk28 = 0; total_wk29 = 0; total_wk30 = 0\n",
    "total_wk31 = 0; total_wk32 = 0; total_wk33 = 0; total_wk34 = 0; total_wk35 = 0\n",
    "total_wk36 = 0; total_wk37 = 0; total_wk38 = 0; total_wk39 = 0; total_wk40 = 0\n",
    "\n",
    "\n",
    "for i in range(len(my_list)):\n",
    "    total_wk1 = total_wk1 + float(my_list[i]['properties'][\"wk_end_2020_01_04\"])\n",
    "    total_wk2 = total_wk2 + float(my_list[i]['properties'][\"wk_end_2020_01_11\"])\n",
    "    total_wk3 = total_wk3 + float(my_list[i]['properties'][\"wk_end_2020_01_18\"])\n",
    "    total_wk4 = total_wk4 + float(my_list[i]['properties'][\"wk_end_2020_01_25\"])\n",
    "    total_wk5 = total_wk5 + float(my_list[i]['properties'][\"wk_end_2020_02_01\"])\n",
    "    total_wk6 = total_wk6 + float(my_list[i]['properties'][\"wk_end_2020_02_08\"])\n",
    "    total_wk7 = total_wk7 + float(my_list[i]['properties'][\"wk_end_2020_02_15\"])\n",
    "    total_wk8 = total_wk8 + float(my_list[i]['properties'][\"wk_end_2020_02_22\"])\n",
    "    total_wk9 = total_wk9 + float(my_list[i]['properties'][\"wk_end_2020_02_29\"])\n",
    "    total_wk10 = total_wk10 + float(my_list[i]['properties'][\"wk_end_2020_03_07\"])\n",
    "    total_wk11 = total_wk11 + float(my_list[i]['properties'][\"wk_end_2020_03_14\"])\n",
    "    total_wk12 = total_wk12 + float(my_list[i]['properties'][\"wk_end_2020_03_21\"])\n",
    "    total_wk13 = total_wk13 + float(my_list[i]['properties'][\"wk_end_2020_03_28\"])\n",
    "    total_wk14 = total_wk14 + float(my_list[i]['properties'][\"wk_end_2020_04_04\"])\n",
    "    total_wk15 = total_wk15 + float(my_list[i]['properties'][\"wk_end_2020_04_11\"])\n",
    "    total_wk16 = total_wk16 + float(my_list[i]['properties'][\"wk_end_2020_04_18\"])\n",
    "    total_wk17 = total_wk17 + float(my_list[i]['properties'][\"wk_end_2020_04_25\"])\n",
    "    total_wk18 = total_wk18 + float(my_list[i]['properties'][\"wk_end_2020_05_02\"])\n",
    "    total_wk19 = total_wk19 + float(my_list[i]['properties'][\"wk_end_2020_05_09\"])\n",
    "    total_wk20 = total_wk20 + float(my_list[i]['properties'][\"wk_end_2020_05_16\"])\n",
    "    total_wk21 = total_wk21 + float(my_list[i]['properties'][\"wk_end_2020_05_23\"])\n",
    "    total_wk22 = total_wk22 + float(my_list[i]['properties'][\"wk_end_2020_05_30\"])\n",
    "    total_wk23 = total_wk23 + float(my_list[i]['properties'][\"wk_end_2020_06_06\"])\n",
    "    total_wk24 = total_wk24 + float(my_list[i]['properties'][\"wk_end_2020_06_13\"])\n",
    "    total_wk25 = total_wk25 + float(my_list[i]['properties'][\"wk_end_2020_06_20\"])\n",
    "    total_wk26 = total_wk26 + float(my_list[i]['properties'][\"wk_end_2020_06_27\"])\n",
    "    total_wk27 = total_wk27 + float(my_list[i]['properties'][\"wk_end_2020_07_04\"])\n",
    "    total_wk28 = total_wk28 + float(my_list[i]['properties'][\"wk_end_2020_07_11\"])\n",
    "    total_wk29 = total_wk29 + float(my_list[i]['properties'][\"wk_end_2020_07_18\"])\n",
    "    total_wk30 = total_wk30 + float(my_list[i]['properties'][\"wk_end_2020_07_25\"])\n",
    "    total_wk31 = total_wk31 + float(my_list[i]['properties'][\"wk_end_2020_08_01\"])\n",
    "    total_wk32 = total_wk32 + float(my_list[i]['properties'][\"wk_end_2020_08_08\"])\n",
    "    total_wk33 = total_wk33 + float(my_list[i]['properties'][\"wk_end_2020_08_15\"])\n",
    "    total_wk34 = total_wk34 + float(my_list[i]['properties'][\"wk_end_2020_08_22\"])\n",
    "    total_wk35 = total_wk35 + float(my_list[i]['properties'][\"wk_end_2020_08_29\"])\n",
    "    total_wk36 = total_wk36 + float(my_list[i]['properties'][\"wk_end_2020_09_05\"])\n",
    "    total_wk37 = total_wk37 + float(my_list[i]['properties'][\"wk_end_2020_09_12\"])\n",
    "    total_wk38 = total_wk38 + float(my_list[i]['properties'][\"wk_end_2020_09_19\"])\n",
    "    total_wk39 = total_wk39 + float(my_list[i]['properties'][\"wk_end_2020_09_26\"])\n",
    "    total_wk40 = total_wk40 + float(my_list[i]['properties'][\"wk_end_2020_10_03\"])\n",
    "total_wk.append(total_wk1); total_wk.append(total_wk2); total_wk.append(total_wk3); total_wk.append(total_wk4)\n",
    "total_wk.append(total_wk5); total_wk.append(total_wk6); total_wk.append(total_wk7); total_wk.append(total_wk8)\n",
    "total_wk.append(total_wk9); total_wk.append(total_wk10); total_wk.append(total_wk11); total_wk.append(total_wk12)\n",
    "total_wk.append(total_wk13); total_wk.append(total_wk14); total_wk.append(total_wk15); total_wk.append(total_wk16)\n",
    "total_wk.append(total_wk17); total_wk.append(total_wk18); total_wk.append(total_wk19); total_wk.append(total_wk20)\n",
    "total_wk.append(total_wk21); total_wk.append(total_wk22); total_wk.append(total_wk23); total_wk.append(total_wk24)\n",
    "total_wk.append(total_wk25); total_wk.append(total_wk26); total_wk.append(total_wk27); total_wk.append(total_wk28)\n",
    "total_wk.append(total_wk29); total_wk.append(total_wk30); total_wk.append(total_wk31); total_wk.append(total_wk32)\n",
    "total_wk.append(total_wk33); total_wk.append(total_wk34); total_wk.append(total_wk35); total_wk.append(total_wk36)\n",
    "total_wk.append(total_wk37); total_wk.append(total_wk38); total_wk.append(total_wk39); total_wk.append(total_wk40)\n",
    "\n",
    "\n",
    "ave_wk = []\n",
    "for i in total_wk:\n",
    "    payroll = i/len(my_list)\n",
    "    ave_wk.append(payroll)\n",
    "print(ave_wk)"
   ]
  },
  {
   "cell_type": "code",
   "execution_count": 134,
   "metadata": {},
   "outputs": [
    {
     "data": {
      "text/plain": [
       "[<matplotlib.lines.Line2D at 0x20dcafdad90>]"
      ]
     },
     "execution_count": 134,
     "metadata": {},
     "output_type": "execute_result"
    },
    {
     "data": {
      "image/png": "[encoded data removed]",
      "text/plain": [
       "<Figure size 432x288 with 1 Axes>"
      ]
     },
     "metadata": {
      "needs_background": "light"
     },
     "output_type": "display_data"
    }
   ],
   "source": [
    "import matplotlib.pyplot as plt\n",
    "plt.plot(ave_wk)"
   ]
  }
 ],
 "metadata": {
  "interpreter": {
   "hash": "3d93671a0e3d3e7aa3818e34b448be8d99028bfc88ccbc9d3610f36069d4f077"
  },
  "kernelspec": {
   "display_name": "Python 3.9.8 64-bit",
   "language": "python",
   "name": "python3"
  },
  "language_info": {
   "codemirror_mode": {
    "name": "ipython",
    "version": 3
   },
   "file_extension": ".py",
   "mimetype": "text/x-python",
   "name": "python",
   "nbconvert_exporter": "python",
   "pygments_lexer": "ipython3",
   "version": "3.9.8"
  },
  "orig_nbformat": 4
 },
 "nbformat": 4,
 "nbformat_minor": 2
}
