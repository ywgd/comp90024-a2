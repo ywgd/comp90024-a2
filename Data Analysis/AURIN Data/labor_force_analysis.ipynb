{
 "cells": [
  {
   "cell_type": "code",
   "execution_count": 7,
   "metadata": {},
   "outputs": [],
   "source": [
    "import json\n",
    "from helperfunc import  Replace_None\n",
    "with open('death_rate.json', 'r', encoding = \"utf-8\") as f:\n",
    "    raw_death_rate = json.load(f)"
   ]
  },
  {
   "cell_type": "code",
   "execution_count": 8,
   "metadata": {},
   "outputs": [],
   "source": [
    "my_list = raw_death_rate['features']\n",
    "for i in range(len(my_list)):\n",
    "    Replace_None(my_list[i]['properties'], 0)\n",
    "    # print(my_list[i]['properties'])\n",
    "    \n",
    "# standardised death rates in  this dataset are averaged using data for the three years ending in the reference year. \n",
    "# They are calculated for each calendar year and then averaged. standardised death rates in the ABSStat datasets \n",
    "# and commentary are based on death registration data for the reference year only."
   ]
  },
  {
   "cell_type": "code",
   "execution_count": 9,
   "metadata": {},
   "outputs": [
    {
     "name": "stdout",
     "output_type": "stream",
     "text": [
      "25484\n",
      "29173\n",
      "27718\n",
      "12649\n",
      "13968\n",
      "13265\n"
     ]
    }
   ],
   "source": [
    "for i in range(len(my_list)):\n",
    "    # first three results are for Melbourne\n",
    "    print(int(my_list[i]['properties']['_2018_deaths_no']))\n",
    "    print(int(my_list[i]['properties']['_2019_deaths_no']))\n",
    "    print(int(my_list[i]['properties']['_2020_deaths_no']))"
   ]
  },
  {
   "cell_type": "code",
   "execution_count": 10,
   "metadata": {},
   "outputs": [
    {
     "name": "stdout",
     "output_type": "stream",
     "text": [
      "4.8\n",
      "4.8\n",
      "4.7\n",
      "5.7\n",
      "5.7\n",
      "5.7\n"
     ]
    }
   ],
   "source": [
    "for i in range(len(my_list)):\n",
    "    print(float(my_list[i]['properties']['_2018_standardised_death_rate_rate']))\n",
    "    print(float(my_list[i]['properties']['_2019_standardised_death_rate_rate']))\n",
    "    print(float(my_list[i]['properties']['_2020_standardised_death_rate_rate']))"
   ]
  },
  {
   "cell_type": "code",
   "execution_count": 11,
   "metadata": {},
   "outputs": [
    {
     "name": "stdout",
     "output_type": "stream",
     "text": [
      "0.005133025816396638\n",
      "0.005743708116539016\n",
      "0.0053725269232058935\n",
      "0.008447838985484598\n",
      "0.009203054243861171\n",
      "0.008627872353018845\n"
     ]
    }
   ],
   "source": [
    "\n",
    "for i in range(len(my_list)):\n",
    "    print(float((my_list[i]['properties']['_2018_deaths_no'])/my_list[i]['properties']['_2018_estimated_resident_population_persons']))\n",
    "    print(float((my_list[i]['properties']['_2019_deaths_no'])/my_list[i]['properties']['_2019_estimated_resident_population_persons']))\n",
    "    print(float((my_list[i]['properties']['_2020_deaths_no'])/my_list[i]['properties']['_2020_estimated_resident_population_persons']))"
   ]
  },
  {
   "cell_type": "code",
   "execution_count": 12,
   "metadata": {},
   "outputs": [],
   "source": [
    "# the death rate in 2020 is smaller than it of previous years\n",
    "# maybe we can agure/compare with Twitter data"
   ]
  }
 ],
 "metadata": {
  "interpreter": {
   "hash": "3d93671a0e3d3e7aa3818e34b448be8d99028bfc88ccbc9d3610f36069d4f077"
  },
  "kernelspec": {
   "display_name": "Python 3.9.8 64-bit",
   "language": "python",
   "name": "python3"
  },
  "language_info": {
   "codemirror_mode": {
    "name": "ipython",
    "version": 3
   },
   "file_extension": ".py",
   "mimetype": "text/x-python",
   "name": "python",
   "nbconvert_exporter": "python",
   "pygments_lexer": "ipython3",
   "version": "3.9.8"
  },
  "orig_nbformat": 4
 },
 "nbformat": 4,
 "nbformat_minor": 2
}
