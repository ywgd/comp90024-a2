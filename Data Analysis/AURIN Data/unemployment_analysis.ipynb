{
 "cells": [
  {
   "cell_type": "code",
   "execution_count": 31,
   "metadata": {},
   "outputs": [],
   "source": [
    "import json\n",
    "from helperfunc import  Replace_None\n",
    "import matplotlib.pyplot as plt\n",
    "import numpy as np\n",
    "with open('unemployment.json','r',encoding=\"utf-8\") as f:\n",
    "    raw_unemployment = json.load(f)"
   ]
  },
  {
   "cell_type": "code",
   "execution_count": 32,
   "metadata": {},
   "outputs": [],
   "source": [
    "my_list = raw_unemployment['features']\n",
    "for i in range(len(my_list)):\n",
    "    Replace_None(my_list[i]['properties'], 0)"
   ]
  },
  {
   "cell_type": "code",
   "execution_count": 33,
   "metadata": {},
   "outputs": [
    {
     "data": {
      "text/plain": [
       "4.811111111111112"
      ]
     },
     "execution_count": 33,
     "metadata": {},
     "output_type": "execute_result"
    }
   ],
   "source": [
    "total_mar = 0\n",
    "for i in range(len(my_list)):\n",
    "    num1 = float(my_list[i]['properties'][\"mar_11\"])\n",
    "    num2 = float(my_list[i]['properties'][\"mar_12\"])\n",
    "    num3 = float(my_list[i]['properties'][\"mar_13\"])\n",
    "    num4 = float(my_list[i]['properties'][\"mar_14\"])\n",
    "    num5 = float(my_list[i]['properties'][\"mar_15\"])\n",
    "    num6 = float(my_list[i]['properties'][\"mar_16\"])\n",
    "    num7 = float(my_list[i]['properties'][\"mar_17\"])\n",
    "    num8 = float(my_list[i]['properties'][\"mar_18\"])\n",
    "    num9 = float(my_list[i]['properties'][\"mar_19\"])\n",
    "    \n",
    "    total_mar = total_mar + num1 + num2 + num3 + num4 + num5 + num6 + num7 + num8 + num9\n",
    "\n",
    "ave_mar = total_mar/(len(my_list)*9)\n",
    "ave_mar"
   ]
  },
  {
   "cell_type": "code",
   "execution_count": 34,
   "metadata": {},
   "outputs": [
    {
     "data": {
      "text/plain": [
       "4.795595003287315"
      ]
     },
     "execution_count": 34,
     "metadata": {},
     "output_type": "execute_result"
    }
   ],
   "source": [
    "total_jun = 0\n",
    "for i in range(len(my_list)):\n",
    "    num1 = float(my_list[i]['properties'][\"jun_11\"])\n",
    "    num2 = float(my_list[i]['properties'][\"jun_12\"])\n",
    "    num3 = float(my_list[i]['properties'][\"jun_13\"])\n",
    "    num4 = float(my_list[i]['properties'][\"jun_14\"])\n",
    "    num5 = float(my_list[i]['properties'][\"jun_15\"])\n",
    "    num6 = float(my_list[i]['properties'][\"jun_16\"])\n",
    "    num7 = float(my_list[i]['properties'][\"jun_17\"])\n",
    "    num8 = float(my_list[i]['properties'][\"jun_18\"])\n",
    "    num9 = float(my_list[i]['properties'][\"jun_19\"])\n",
    "\n",
    "    total_jun = total_jun + num1 + num2 + num3 + num4 + num5 + num6 + num7 + num8 + num9\n",
    "ave_jun = total_jun/(len(my_list)*9)\n",
    "ave_jun"
   ]
  },
  {
   "cell_type": "code",
   "execution_count": 35,
   "metadata": {},
   "outputs": [
    {
     "data": {
      "text/plain": [
       "4.790828402366866"
      ]
     },
     "execution_count": 35,
     "metadata": {},
     "output_type": "execute_result"
    }
   ],
   "source": [
    "total_sep = 0\n",
    "for i in range(len(my_list)):\n",
    "    num1 = float(my_list[i]['properties'][\"sep_11\"])\n",
    "    num2 = float(my_list[i]['properties'][\"sep_12\"])\n",
    "    num3 = float(my_list[i]['properties'][\"sep_13\"])\n",
    "    num4 = float(my_list[i]['properties'][\"sep_14\"])\n",
    "    num5 = float(my_list[i]['properties'][\"sep_15\"])\n",
    "    num6 = float(my_list[i]['properties'][\"sep_16\"])\n",
    "    num7 = float(my_list[i]['properties'][\"sep_17\"])\n",
    "    num8 = float(my_list[i]['properties'][\"sep_18\"])\n",
    "    num9 = float(my_list[i]['properties'][\"sep_19\"])\n",
    "\n",
    "    total_sep = total_sep + num1 + num2 + num3 + num4 + num5 + num6 + num7 + num8 + num9\n",
    "ave_sep = total_sep/(len(my_list)*9)\n",
    "ave_sep"
   ]
  },
  {
   "cell_type": "code",
   "execution_count": 36,
   "metadata": {},
   "outputs": [
    {
     "data": {
      "text/plain": [
       "4.784451019066402"
      ]
     },
     "execution_count": 36,
     "metadata": {},
     "output_type": "execute_result"
    }
   ],
   "source": [
    "total_dec = 0\n",
    "for i in range(len(my_list)):\n",
    "    num1 = float(my_list[i]['properties'][\"dec_11\"])\n",
    "    num2 = float(my_list[i]['properties'][\"dec_12\"])\n",
    "    num3 = float(my_list[i]['properties'][\"dec_13\"])\n",
    "    num4 = float(my_list[i]['properties'][\"dec_14\"])\n",
    "    num5 = float(my_list[i]['properties'][\"dec_15\"])\n",
    "    num6 = float(my_list[i]['properties'][\"dec_16\"])\n",
    "    num7 = float(my_list[i]['properties'][\"dec_17\"])\n",
    "    num8 = float(my_list[i]['properties'][\"dec_18\"])\n",
    "    num9 = float(my_list[i]['properties'][\"dec_19\"])\n",
    "\n",
    "    total_dec = total_dec + num1 + num2 + num3 + num4 + num5 + num6 + num7 + num8 + num9\n",
    "ave_dec = total_dec/(len(my_list)*9)\n",
    "ave_dec"
   ]
  },
  {
   "cell_type": "code",
   "execution_count": 37,
   "metadata": {},
   "outputs": [
    {
     "name": "stdout",
     "output_type": "stream",
     "text": [
      "4.936390532544382\n",
      "5.486390532544382\n"
     ]
    }
   ],
   "source": [
    "mar_2020 = 0\n",
    "jun_2020 = 0\n",
    "sep_2020 = 0\n",
    "dec_2020 = 0\n",
    "for i in range(len(my_list)):\n",
    "    mar_2020 = mar_2020 + float(my_list[i]['properties'][\"mar_20\"])\n",
    "    jun_2020 = jun_2020 + float(my_list[i]['properties'][\"jun_20\"])\n",
    "ave_mar_2020 = mar_2020/len(my_list)\n",
    "ave_jun_2020 = jun_2020/len(my_list)\n",
    "print(ave_mar_2020)\n",
    "print(ave_jun_2020)"
   ]
  },
  {
   "cell_type": "code",
   "execution_count": 39,
   "metadata": {},
   "outputs": [
    {
     "data": {
      "image/png": "[encoded data removed]",
      "text/plain": [
       "<Figure size 720x504 with 1 Axes>"
      ]
     },
     "metadata": {
      "needs_background": "light"
     },
     "output_type": "display_data"
    }
   ],
   "source": [
    "month = [\"March\", \"June\", \"September\", \"December\"]\n",
    "data1 = [ave_mar, ave_jun, ave_sep, ave_dec]\n",
    "data2 = [ave_mar_2020, ave_jun_2020, 0, 0]\n",
    "month_axis = np.arange(len(month))\n",
    "fig = plt.figure(figsize = (10, 7))\n",
    "plt.bar(month_axis - 0.2, data1, 0.4, label = \"Previous year\")\n",
    "plt.bar(month_axis + 0.2, data2, 0.4, label = \"Year 2020\")\n",
    "plt.xticks(month_axis, month)\n",
    "plt.xlabel(\"Month\")\n",
    "plt.ylabel(\"Average unemployment rate\")\n",
    "plt.title(\"Compare the unemployment rate in 2020s with previous years\")\n",
    "plt.show()"
   ]
  }
 ],
 "metadata": {
  "interpreter": {
   "hash": "3d93671a0e3d3e7aa3818e34b448be8d99028bfc88ccbc9d3610f36069d4f077"
  },
  "kernelspec": {
   "display_name": "Python 3.9.8 64-bit",
   "language": "python",
   "name": "python3"
  },
  "language_info": {
   "codemirror_mode": {
    "name": "ipython",
    "version": 3
   },
   "file_extension": ".py",
   "mimetype": "text/x-python",
   "name": "python",
   "nbconvert_exporter": "python",
   "pygments_lexer": "ipython3",
   "version": "3.9.8"
  },
  "orig_nbformat": 4
 },
 "nbformat": 4,
 "nbformat_minor": 2
}
