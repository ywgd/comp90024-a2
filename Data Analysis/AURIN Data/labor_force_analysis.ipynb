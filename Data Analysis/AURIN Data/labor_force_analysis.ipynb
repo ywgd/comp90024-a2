{
 "cells": [
  {
   "cell_type": "code",
   "execution_count": 1,
   "metadata": {},
   "outputs": [],
   "source": [
    "import json\n",
    "from helperfunc import  Replace_None\n",
    "with open('death_rate.json', 'r', encoding = \"utf-8\") as f:\n",
    "    raw_death_rate = json.load(f)"
   ]
  },
  {
   "cell_type": "code",
   "execution_count": 5,
   "metadata": {},
   "outputs": [
    {
     "name": "stdout",
     "output_type": "stream",
     "text": [
      "{'_2017_deaths_no': 26829, '_2017_estimated_resident_population_persons': 4843928, 'gccsa_code': '2GMEL', '_2020_standardised_death_rate_rate': 4.7, '_2016_deaths_no': 26430, '_2013_deaths_no': 24162, '_2014_deaths_no': 25561, '_2014_estimated_resident_population_persons': 4476030, '_2020_estimated_resident_population_persons': 5159211, '_2015_standardised_death_rate_rate': 5.1, '_2013_standardised_death_rate_rate': 5.1, '_2018_standardised_death_rate_rate': 4.8, '_2016_estimated_resident_population_persons': 4714387, '_2014_standardised_death_rate_rate': 5.0, '_2017_standardised_death_rate_rate': 5.0, '_2018_estimated_resident_population_persons': 4964713, '_2012_standardised_death_rate_rate': 5.3, '_2016_standardised_death_rate_rate': 5.1, '_2012_deaths_no': 24148, '_2020_deaths_no': 27718, '_2013_estimated_resident_population_persons': 4370067, '_2019_deaths_no': 29173, '_2019_standardised_death_rate_rate': 4.8, '_2019_estimated_resident_population_persons': 5079123, '_2015_estimated_resident_population_persons': 4586012, '_2015_deaths_no': 26781, '_2012_estimated_resident_population_persons': 4265843, 'gccsa_name': 'Greater Melbourne', '_2018_deaths_no': 25484}\n",
      "{'_2017_deaths_no': 12865, '_2017_estimated_resident_population_persons': 1477678, 'gccsa_code': '2RVIC', '_2020_standardised_death_rate_rate': 5.7, '_2016_deaths_no': 12923, '_2013_deaths_no': 11680, '_2014_deaths_no': 12396, '_2014_estimated_resident_population_persons': 1418887, '_2020_estimated_resident_population_persons': 1537459, '_2015_standardised_death_rate_rate': 5.9, '_2013_standardised_death_rate_rate': 6.0, '_2018_standardised_death_rate_rate': 5.7, '_2016_estimated_resident_population_persons': 1458785, '_2014_standardised_death_rate_rate': 5.9, '_2017_standardised_death_rate_rate': 5.9, '_2018_estimated_resident_population_persons': 1497306, '_2012_standardised_death_rate_rate': 6.2, '_2016_standardised_death_rate_rate': 6.0, '_2012_deaths_no': 11541, '_2020_deaths_no': 13265, '_2013_estimated_resident_population_persons': 1402602, '_2019_deaths_no': 13968, '_2019_standardised_death_rate_rate': 5.7, '_2019_estimated_resident_population_persons': 1517757, '_2015_estimated_resident_population_persons': 1436310, '_2015_deaths_no': 13043, '_2012_estimated_resident_population_persons': 1385248, 'gccsa_name': 'Rest of Vic.', '_2018_deaths_no': 12649}\n"
     ]
    }
   ],
   "source": [
    "my_list = raw_death_rate['features']\n",
    "for i in range(len(my_list)):\n",
    "    Replace_None(my_list[i]['properties'], 0)\n",
    "    # print(my_list[i]['properties'])\n",
    "    \n",
    "# standardised death rates in  this dataset are averaged using data for the three years ending in the reference year. \n",
    "# They are calculated for each calendar year and then averaged. standardised death rates in the ABSStat datasets \n",
    "# and commentary are based on death registration data for the reference year only."
   ]
  },
  {
   "cell_type": "code",
   "execution_count": 11,
   "metadata": {},
   "outputs": [
    {
     "name": "stdout",
     "output_type": "stream",
     "text": [
      "25484\n",
      "29173\n",
      "27718\n",
      "12649\n",
      "13968\n",
      "13265\n"
     ]
    }
   ],
   "source": [
    "for i in range(len(my_list)):\n",
    "    # first three results are for Melbourne\n",
    "    print(int(my_list[i]['properties']['_2018_deaths_no']))\n",
    "    print(int(my_list[i]['properties']['_2019_deaths_no']))\n",
    "    print(int(my_list[i]['properties']['_2020_deaths_no']))"
   ]
  },
  {
   "cell_type": "code",
   "execution_count": 13,
   "metadata": {},
   "outputs": [
    {
     "name": "stdout",
     "output_type": "stream",
     "text": [
      "4.8\n",
      "4.8\n",
      "4.7\n",
      "5.7\n",
      "5.7\n",
      "5.7\n"
     ]
    }
   ],
   "source": [
    "for i in range(len(my_list)):\n",
    "    print(float(my_list[i]['properties']['_2018_standardised_death_rate_rate']))\n",
    "    print(float(my_list[i]['properties']['_2019_standardised_death_rate_rate']))\n",
    "    print(float(my_list[i]['properties']['_2020_standardised_death_rate_rate']))"
   ]
  },
  {
   "cell_type": "code",
   "execution_count": 16,
   "metadata": {},
   "outputs": [
    {
     "name": "stdout",
     "output_type": "stream",
     "text": [
      "0.005133025816396638\n",
      "0.005743708116539016\n",
      "0.0053725269232058935\n",
      "0.008447838985484598\n",
      "0.009203054243861171\n",
      "0.008627872353018845\n"
     ]
    }
   ],
   "source": [
    "\n",
    "for i in range(len(my_list)):\n",
    "    print(float((my_list[i]['properties']['_2018_deaths_no'])/my_list[i]['properties']['_2018_estimated_resident_population_persons']))\n",
    "    print(float((my_list[i]['properties']['_2019_deaths_no'])/my_list[i]['properties']['_2019_estimated_resident_population_persons']))\n",
    "    print(float((my_list[i]['properties']['_2020_deaths_no'])/my_list[i]['properties']['_2020_estimated_resident_population_persons']))"
   ]
  },
  {
   "cell_type": "code",
   "execution_count": null,
   "metadata": {},
   "outputs": [],
   "source": [
    "# the death rate in 2020 is smaller than it of previous years\n",
    "# maybe we can agure/compare with Twitter data"
   ]
  }
 ],
 "metadata": {
  "interpreter": {
   "hash": "3d93671a0e3d3e7aa3818e34b448be8d99028bfc88ccbc9d3610f36069d4f077"
  },
  "kernelspec": {
   "display_name": "Python 3.9.8 64-bit",
   "language": "python",
   "name": "python3"
  },
  "language_info": {
   "codemirror_mode": {
    "name": "ipython",
    "version": 3
   },
   "file_extension": ".py",
   "mimetype": "text/x-python",
   "name": "python",
   "nbconvert_exporter": "python",
   "pygments_lexer": "ipython3",
   "version": "3.9.8"
  },
  "orig_nbformat": 4
 },
 "nbformat": 4,
 "nbformat_minor": 2
}
