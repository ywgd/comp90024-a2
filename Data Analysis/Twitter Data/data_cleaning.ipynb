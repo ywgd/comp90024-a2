{
 "cells": [
  {
   "cell_type": "code",
   "execution_count": 4,
   "metadata": {},
   "outputs": [
    {
     "name": "stdout",
     "output_type": "stream",
     "text": [
      "9600\n"
     ]
    }
   ],
   "source": [
    "import json\n",
    "\n",
    "with open('twitterdata_with_text.json','r',encoding=\"utf-8\") as f:\n",
    "    raw_tweets = json.load(f)\n",
    "print(len(raw_tweets))"
   ]
  },
  {
   "cell_type": "code",
   "execution_count": 5,
   "metadata": {},
   "outputs": [
    {
     "name": "stdout",
     "output_type": "stream",
     "text": [
      "9579\n"
     ]
    }
   ],
   "source": [
    "# remove duplicate tweets\n",
    "raw_tweets = { each['id'] : each for each in raw_tweets }.values()\n",
    "print(len(raw_tweets))\n"
   ]
  },
  {
   "cell_type": "code",
   "execution_count": 6,
   "metadata": {},
   "outputs": [],
   "source": [
    "with open('final_twitter_data.json', 'a', encoding='utf-8') as f:\n",
    "    for item in raw_tweets:\n",
    "        # search data has a different field name than stream data, change it\n",
    "        if \"full_text\" in item:\n",
    "            item['text'] = item.pop(\"full_text\")\n",
    "        json.dump(item, f)\n",
    "        f.write(\",\")\n",
    "        f.write('\\n')"
   ]
  }
 ],
 "metadata": {
  "interpreter": {
   "hash": "3d93671a0e3d3e7aa3818e34b448be8d99028bfc88ccbc9d3610f36069d4f077"
  },
  "kernelspec": {
   "display_name": "Python 3.9.8 64-bit",
   "language": "python",
   "name": "python3"
  },
  "language_info": {
   "codemirror_mode": {
    "name": "ipython",
    "version": 3
   },
   "file_extension": ".py",
   "mimetype": "text/x-python",
   "name": "python",
   "nbconvert_exporter": "python",
   "pygments_lexer": "ipython3",
   "version": "3.9.8"
  },
  "orig_nbformat": 4
 },
 "nbformat": 4,
 "nbformat_minor": 2
}
